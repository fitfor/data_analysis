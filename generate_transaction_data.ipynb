{
 "cells": [
  {
   "cell_type": "markdown",
   "id": "7ad04ca5",
   "metadata": {},
   "source": [
    "Eventually the path to data needs to be adjusted"
   ]
  },
  {
   "cell_type": "code",
   "execution_count": 55,
   "id": "aa23743b",
   "metadata": {},
   "outputs": [],
   "source": [
    "import requests\n",
    "import json\n",
    "import time\n",
    "import pickle"
   ]
  },
  {
   "cell_type": "code",
   "execution_count": 36,
   "id": "174419e2",
   "metadata": {},
   "outputs": [],
   "source": [
    "####\n",
    "# Select first 100 Users\n",
    "with open('users', 'r') as fh:\n",
    "    users = fh.read()\n",
    "users = json.loads(users)"
   ]
  },
  {
   "cell_type": "code",
   "execution_count": 70,
   "id": "75e8ceb1",
   "metadata": {},
   "outputs": [],
   "source": [
    "####\n",
    "# Select a specific user and retrieve data\n",
    "ct = 100\n",
    "user_id = users[ct]\n",
    "\n",
    "# '5FD86F5840D44A02A41D6647B1EFA1F5'"
   ]
  },
  {
   "cell_type": "code",
   "execution_count": 71,
   "id": "e97c4fa5",
   "metadata": {},
   "outputs": [
    {
     "name": "stdout",
     "output_type": "stream",
     "text": [
      "33.33323431015015\n"
     ]
    }
   ],
   "source": [
    "start_t = time.time()\n",
    "r = requests.get('https://hhackmuhaapi.azurewebsites.net/api/activities', data={'userId': user_id})\n",
    "end_t = time.time()\n",
    "print(end_t - start_t)"
   ]
  },
  {
   "cell_type": "code",
   "execution_count": 72,
   "id": "8b6be52c",
   "metadata": {},
   "outputs": [],
   "source": [
    "####\n",
    "# generate cast into json\n",
    "user_data = json.loads(r.text)"
   ]
  },
  {
   "cell_type": "code",
   "execution_count": 73,
   "id": "90dd27e4",
   "metadata": {},
   "outputs": [
    {
     "name": "stdout",
     "output_type": "stream",
     "text": [
      "317633\n"
     ]
    }
   ],
   "source": [
    "print(len(user_data))"
   ]
  },
  {
   "cell_type": "code",
   "execution_count": 74,
   "id": "4844b2e9",
   "metadata": {},
   "outputs": [],
   "source": [
    "file_name = 'data/user_data_' + user_id +'.pkl'\n",
    "with open(file_name, 'wb') as fh:\n",
    "    pickle.dump(user_data, fh)\n"
   ]
  },
  {
   "cell_type": "code",
   "execution_count": 77,
   "id": "523f3e94",
   "metadata": {},
   "outputs": [],
   "source": [
    "\n",
    "list_tasks = []\n",
    "for upper in range(1, 30):\n",
    "    upper = upper*10\n",
    "    lower = upper - 10\n",
    "    tasks = []\n",
    "    for ct in range(lower, upper):\n",
    "        user = user_data[ct]\n",
    "        user = user['activityDetails']\n",
    "        #print(user)\n",
    "        if user is not None:\n",
    "            if '{' in user:\n",
    "                activity = json.loads(user)['SubcategoryType']\n",
    "                activity = activity.replace(' completed', '')\n",
    "                tasks.append(activity)\n",
    "    \n",
    "    list_tasks.append(tasks)"
   ]
  },
  {
   "cell_type": "code",
   "execution_count": 78,
   "id": "74674e48",
   "metadata": {},
   "outputs": [
    {
     "data": {
      "text/plain": [
       "[['Flexibility excercise',\n",
       "  'Strength excercise',\n",
       "  'Strength excercise',\n",
       "  'HealthyEating ',\n",
       "  'Strength excercise'],\n",
       " ['HealthyEating ',\n",
       "  'Motivation excercise',\n",
       "  'Strength excercise',\n",
       "  'Strength excercise',\n",
       "  'Motivation excercise'],\n",
       " ['Strength excercise', 'Flexibility excercise'],\n",
       " ['HealthyEating ', 'Motivation excercise'],\n",
       " ['HealthyEating ',\n",
       "  'Strength excercise',\n",
       "  'Motivation excercise',\n",
       "  'Flexibility excercise',\n",
       "  'HealthyEating '],\n",
       " ['Relaxation excercise',\n",
       "  'Motivation excercise',\n",
       "  'Motivation excercise',\n",
       "  'Strength excercise',\n",
       "  'Strength excercise'],\n",
       " ['HealthyEating ',\n",
       "  'Strength excercise',\n",
       "  'Strength excercise',\n",
       "  'Motivation excercise',\n",
       "  'HealthyEating ',\n",
       "  'HealthyEating ',\n",
       "  'Strength excercise'],\n",
       " ['Strength excercise',\n",
       "  'Focus excercise',\n",
       "  'Motivation excercise',\n",
       "  'HealthyEating ',\n",
       "  'HealthyEating ',\n",
       "  'HealthyEating '],\n",
       " ['Motivation excercise', 'Motivation excercise', 'HealthyEating '],\n",
       " ['HealthyEating ',\n",
       "  'Motivation excercise',\n",
       "  'HealthyEating ',\n",
       "  'HealthyEating ',\n",
       "  'HealthyEating ',\n",
       "  'Strength excercise',\n",
       "  'Motivation excercise'],\n",
       " ['Motivation excercise', 'Motivation excercise', 'Strength excercise'],\n",
       " ['HealthyEating ',\n",
       "  'HealthyEating ',\n",
       "  'Motivation excercise',\n",
       "  'Strength excercise',\n",
       "  'Motivation excercise'],\n",
       " ['Strength excercise', 'HealthyEating '],\n",
       " ['Motivation excercise',\n",
       "  'HealthyEating ',\n",
       "  'Motivation excercise',\n",
       "  'Motivation excercise'],\n",
       " ['HealthyEating ', 'HealthyEating '],\n",
       " ['Strength excercise', 'Strength excercise'],\n",
       " ['Strength excercise'],\n",
       " ['HealthyEating ', 'HealthyEating ', 'HealthyEating '],\n",
       " ['Relaxation excercise', 'HealthyEating ', 'Motivation excercise'],\n",
       " ['Strength excercise',\n",
       "  'HealthyEating ',\n",
       "  'HealthyEating ',\n",
       "  'Endurance excercise',\n",
       "  'Strength excercise'],\n",
       " ['Sleeping excercise',\n",
       "  'HealthyEating ',\n",
       "  'Motivation excercise',\n",
       "  'Strength excercise'],\n",
       " ['Relaxation excercise'],\n",
       " ['HealthyEating ',\n",
       "  'HealthyEating ',\n",
       "  'HealthyEating ',\n",
       "  'Motivation excercise',\n",
       "  'HealthyEating '],\n",
       " ['HealthyEating ',\n",
       "  'Strength excercise',\n",
       "  'Motivation excercise',\n",
       "  'Motivation excercise'],\n",
       " ['Strength excercise',\n",
       "  'Motivation excercise',\n",
       "  'HealthyEating ',\n",
       "  'Motivation excercise'],\n",
       " ['Strength excercise',\n",
       "  'Motivation excercise',\n",
       "  'Strength excercise',\n",
       "  'Strength excercise',\n",
       "  'Motivation excercise',\n",
       "  'HealthyEating '],\n",
       " ['Strength excercise', 'Strength excercise', 'Flexibility excercise'],\n",
       " ['Motivation excercise', 'Motivation excercise', 'HealthyEating '],\n",
       " ['Motivation excercise',\n",
       "  'Motivation excercise',\n",
       "  'HealthyEating ',\n",
       "  'Strength excercise',\n",
       "  'HealthyEating ',\n",
       "  'HealthyEating ']]"
      ]
     },
     "execution_count": 78,
     "metadata": {},
     "output_type": "execute_result"
    }
   ],
   "source": [
    "list_tasks"
   ]
  },
  {
   "cell_type": "code",
   "execution_count": 79,
   "id": "b03e9dd3",
   "metadata": {},
   "outputs": [],
   "source": [
    "####\n",
    "# store the basket data\n",
    "file_name = 'data/' + 'basket_data_user_id_' + user_id + '.pkl'\n",
    "with open(file_name, 'wb') as fh:\n",
    "    pickle.dump(list_tasks, fh)"
   ]
  },
  {
   "cell_type": "code",
   "execution_count": null,
   "id": "2b14f6b7",
   "metadata": {},
   "outputs": [],
   "source": []
  }
 ],
 "metadata": {
  "kernelspec": {
   "display_name": "Python 3 (ipykernel)",
   "language": "python",
   "name": "python3"
  },
  "language_info": {
   "codemirror_mode": {
    "name": "ipython",
    "version": 3
   },
   "file_extension": ".py",
   "mimetype": "text/x-python",
   "name": "python",
   "nbconvert_exporter": "python",
   "pygments_lexer": "ipython3",
   "version": "3.8.10"
  }
 },
 "nbformat": 4,
 "nbformat_minor": 5
}
